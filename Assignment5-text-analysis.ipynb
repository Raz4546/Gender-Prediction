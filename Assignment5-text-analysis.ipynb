{
 "cells": [
  {
   "cell_type": "markdown",
   "metadata": {},
   "source": [
    "# Assignment 5 - Text Analysis\n",
    "An explanation this assignment could be found in the .pdf explanation document"
   ]
  },
  {
   "cell_type": "markdown",
   "metadata": {},
   "source": [
    "\n",
    "## Materials to review for this assignment\n",
    "<h4>From Moodle:</h4> \n",
    "<h5><u>Review the notebooks regarding the following python topics</u>:</h5>\n",
    "<div class=\"alert alert-info\">\n",
    "&#x2714; <b>Working with strings</b> (tutorial notebook)<br/>\n",
    "&#x2714; <b>Text Analysis</b> (tutorial notebook)<br/>\n",
    "&#x2714; <b>Hebrew text analysis tools (tokenizer, wordnet)</b> (moodle example)<br/>\n",
    "&#x2714; <b>(brief review) All previous notebooks</b><br/>\n",
    "</div> \n",
    "<h5><u>Review the presentations regarding the following topics</u>:</h5>\n",
    "<div class=\"alert alert-info\">\n",
    "&#x2714; <b>Text Analysis</b> (lecture presentation)<br/>\n",
    "&#x2714; <b>(brief review) All other presentations</b><br/>\n",
    "</div>"
   ]
  },
  {
   "cell_type": "markdown",
   "metadata": {},
   "source": [
    "## Preceding Step - import modules (packages)\n",
    "This step is necessary in order to use external modules (packages). <br/>"
   ]
  },
  {
   "cell_type": "code",
   "execution_count": 2,
   "metadata": {},
   "outputs": [],
   "source": [
    "# --------------------------------------\n",
    "import pandas as pd\n",
    "import numpy as np\n",
    "# --------------------------------------\n",
    "\n",
    "\n",
    "# --------------------------------------\n",
    "# ------------- visualizations:\n",
    "import seaborn as sns\n",
    "import matplotlib.pyplot as plt\n",
    "from matplotlib.colors import ListedColormap\n",
    "# --------------------------------------\n",
    "\n",
    "\n",
    "# ---------------------------------------\n",
    "import sklearn\n",
    "from sklearn import preprocessing, metrics, pipeline, model_selection, feature_extraction \n",
    "from sklearn import naive_bayes, linear_model, svm, neural_network, neighbors, tree\n",
    "from sklearn import decomposition, cluster\n",
    "#from sklearn.model_selection import  cross_validate ,RepeatedKFold , RepeatedStratifiedKFold\n",
    "from sklearn.model_selection import train_test_split, cross_val_score, GridSearchCV, RepeatedStratifiedKFold, RepeatedKFold\n",
    "from sklearn.pipeline import Pipeline\n",
    "from sklearn.metrics import accuracy_score, confusion_matrix\n",
    "from sklearn.metrics import precision_score, recall_score, f1_score\n",
    "from sklearn.metrics import mean_squared_error, r2_score, silhouette_score, make_scorer\n",
    "from sklearn.preprocessing import MaxAbsScaler, MinMaxScaler, StandardScaler, LabelEncoder\n",
    "\n",
    "from sklearn.svm import LinearSVC\n",
    "from sklearn.neural_network import MLPClassifier\n",
    "from sklearn.linear_model import Perceptron, SGDClassifier, LogisticRegression\n",
    "from sklearn.decomposition import PCA\n",
    "from sklearn.cluster import KMeans\n",
    "from sklearn.naive_bayes import MultinomialNB, GaussianNB\n",
    "from sklearn.neighbors import KNeighborsClassifier\n",
    "from sklearn.tree import DecisionTreeClassifier\n",
    "# ---------------------------------------\n",
    "\n",
    "\n",
    "# ----------------- output and visualizations: \n",
    "import warnings\n",
    "from sklearn.exceptions import ConvergenceWarning\n",
    "warnings.simplefilter(\"ignore\")\n",
    "warnings.simplefilter(action='ignore', category=FutureWarning)\n",
    "warnings.simplefilter(\"ignore\", category=ConvergenceWarning)\n",
    "# show several prints in one cell. This will allow us to condence every trick in one cell.\n",
    "from IPython.core.interactiveshell import InteractiveShell\n",
    "InteractiveShell.ast_node_interactivity = \"all\"\n",
    "%matplotlib inline\n",
    "pd.pandas.set_option('display.max_columns', None)\n",
    "pd.set_option('display.float_format', lambda x: '%.3f' % x)\n",
    "# ---------------------------------------"
   ]
  },
  {
   "cell_type": "markdown",
   "metadata": {},
   "source": [
    "### Text analysis and String manipulation imports:"
   ]
  },
  {
   "cell_type": "code",
   "execution_count": 3,
   "metadata": {},
   "outputs": [],
   "source": [
    "# --------------------------------------\n",
    "# --------- Text analysis and Hebrew text analysis imports:\n",
    "# vectorizers:\n",
    "from sklearn.feature_extraction import text\n",
    "from sklearn.feature_extraction.text import CountVectorizer, TfidfVectorizer\n",
    "\n",
    "# regular expressions:\n",
    "import re\n",
    "# --------------------------------------"
   ]
  },
  {
   "cell_type": "markdown",
   "metadata": {},
   "source": [
    "### (optional) Hebrew text analysis - WordNet (for Hebrew)\n",
    "Note: the WordNet is not a must"
   ]
  },
  {
   "cell_type": "markdown",
   "metadata": {},
   "source": [
    "#### (optional) Only if you didn't install Wordnet (for Hebrew) use:"
   ]
  },
  {
   "cell_type": "code",
   "execution_count": 4,
   "metadata": {},
   "outputs": [],
   "source": [
    "# word net installation:\n",
    "\n",
    "# unmark if you want to use and need to install\n",
    "#!pip install wn\n",
    "#!python -m wn download omw-he:1.4"
   ]
  },
  {
   "cell_type": "code",
   "execution_count": 5,
   "metadata": {},
   "outputs": [],
   "source": [
    "# word net import:\n",
    "\n",
    "# unmark if you want to use:\n",
    "import wn"
   ]
  },
  {
   "cell_type": "markdown",
   "metadata": {},
   "source": [
    "### (optional) Hebrew text analysis - hebrew_tokenizer (Tokenizer for Hebrew)\n",
    "Note: the hebrew_tokenizer is not a must"
   ]
  },
  {
   "cell_type": "markdown",
   "metadata": {},
   "source": [
    "#### (optional) Only if you didn't install hebrew_tokenizer use:"
   ]
  },
  {
   "cell_type": "code",
   "execution_count": 6,
   "metadata": {},
   "outputs": [],
   "source": [
    "#!pip install hebrew_tokenizer"
   ]
  },
  {
   "cell_type": "code",
   "execution_count": 7,
   "metadata": {},
   "outputs": [
    {
     "name": "stdout",
     "output_type": "stream",
     "text": [
      "C:\\Users\\Raz\\OneDrive\\שולחן העבודה\\לימודים\\שנה ב\\סמסטר ב\\למידת מכונה\\מטלה 5\n"
     ]
    }
   ],
   "source": [
    "import hebrew_tokenizer as ht"
   ]
  },
  {
   "cell_type": "markdown",
   "metadata": {},
   "source": [
    "### Reading input files\n",
    "Reading input files for train annotated corpus (raw text data) corpus and for the test corpus"
   ]
  },
  {
   "cell_type": "code",
   "execution_count": 8,
   "metadata": {},
   "outputs": [],
   "source": [
    "train_filename = 'annotated_corpus_for_train.csv'\n",
    "test_filename  = 'corpus_for_test.csv'\n",
    "df_train = pd.read_csv(train_filename, index_col=None, encoding='utf-8')\n",
    "df_test  = pd.read_csv(test_filename, index_col=None, encoding='utf-8')"
   ]
  },
  {
   "cell_type": "code",
   "execution_count": 9,
   "metadata": {},
   "outputs": [
    {
     "data": {
      "text/html": [
       "<div>\n",
       "<style scoped>\n",
       "    .dataframe tbody tr th:only-of-type {\n",
       "        vertical-align: middle;\n",
       "    }\n",
       "\n",
       "    .dataframe tbody tr th {\n",
       "        vertical-align: top;\n",
       "    }\n",
       "\n",
       "    .dataframe thead th {\n",
       "        text-align: right;\n",
       "    }\n",
       "</style>\n",
       "<table border=\"1\" class=\"dataframe\">\n",
       "  <thead>\n",
       "    <tr style=\"text-align: right;\">\n",
       "      <th></th>\n",
       "      <th>story</th>\n",
       "      <th>gender</th>\n",
       "    </tr>\n",
       "  </thead>\n",
       "  <tbody>\n",
       "    <tr>\n",
       "      <th>0</th>\n",
       "      <td>כשחבר הזמין אותי לחול, לא באמת חשבתי שזה יקרה,...</td>\n",
       "      <td>m</td>\n",
       "    </tr>\n",
       "    <tr>\n",
       "      <th>1</th>\n",
       "      <td>לפני שהתגייסתי לצבא עשיתי כל מני מיונים ליחידו...</td>\n",
       "      <td>m</td>\n",
       "    </tr>\n",
       "    <tr>\n",
       "      <th>2</th>\n",
       "      <td>מאז שהתחילו הלימודים חלומו של כל סטודנט זה הפנ...</td>\n",
       "      <td>f</td>\n",
       "    </tr>\n",
       "    <tr>\n",
       "      <th>3</th>\n",
       "      <td>כשהייתי ילד, מטוסים היה הדבר שהכי ריתק אותי. ב...</td>\n",
       "      <td>m</td>\n",
       "    </tr>\n",
       "    <tr>\n",
       "      <th>4</th>\n",
       "      <td>‏הייתי מדריכה בכפר נוער ומתאם הכפר היינו צריכי...</td>\n",
       "      <td>f</td>\n",
       "    </tr>\n",
       "    <tr>\n",
       "      <th>5</th>\n",
       "      <td>לפני כ3 חודשים טסתי לרומא למשך שבוע. טסתי במטו...</td>\n",
       "      <td>f</td>\n",
       "    </tr>\n",
       "    <tr>\n",
       "      <th>6</th>\n",
       "      <td>אני כבר שנתיים נשוי והשנה אני ואישתי סוף סוף י...</td>\n",
       "      <td>m</td>\n",
       "    </tr>\n",
       "    <tr>\n",
       "      <th>7</th>\n",
       "      <td>השנה התחלנו שיפוץ בדירה שלנו בתל אביב. הדירה ה...</td>\n",
       "      <td>f</td>\n",
       "    </tr>\n",
       "  </tbody>\n",
       "</table>\n",
       "</div>"
      ],
      "text/plain": [
       "                                               story gender\n",
       "0  כשחבר הזמין אותי לחול, לא באמת חשבתי שזה יקרה,...      m\n",
       "1  לפני שהתגייסתי לצבא עשיתי כל מני מיונים ליחידו...      m\n",
       "2  מאז שהתחילו הלימודים חלומו של כל סטודנט זה הפנ...      f\n",
       "3  כשהייתי ילד, מטוסים היה הדבר שהכי ריתק אותי. ב...      m\n",
       "4  ‏הייתי מדריכה בכפר נוער ומתאם הכפר היינו צריכי...      f\n",
       "5  לפני כ3 חודשים טסתי לרומא למשך שבוע. טסתי במטו...      f\n",
       "6  אני כבר שנתיים נשוי והשנה אני ואישתי סוף סוף י...      m\n",
       "7  השנה התחלנו שיפוץ בדירה שלנו בתל אביב. הדירה ה...      f"
      ]
     },
     "execution_count": 9,
     "metadata": {},
     "output_type": "execute_result"
    },
    {
     "data": {
      "text/plain": [
       "(753, 2)"
      ]
     },
     "execution_count": 9,
     "metadata": {},
     "output_type": "execute_result"
    }
   ],
   "source": [
    "df_train.head(8)\n",
    "df_train.shape"
   ]
  },
  {
   "cell_type": "code",
   "execution_count": 10,
   "metadata": {},
   "outputs": [
    {
     "data": {
      "text/plain": [
       "'מאז שהתחילו הלימודים חלומו של כל סטודנט זה הפנגויה, מחפשים חברים וקובעים קבוצות. לא היה קל להכיר אנשים חדשים במכללה במיוחד שלא מכירים אף אחד מראש אבל אחרי מאמצים הצלחתי למצוא לעצמי חברות אנשים נחמדים להיות איתם. וכבר בחודש הראשון של התואר ידעתי עם מי אני נוסעת 5 חברות חדשות שפגשתי בכיתה שלי ורצינו ללכת ביחד כולנו באותו ראש עובדות חלק רווקות וחלק בזוגיות אבל מה שהכי רצינו לעשות זה ללכת לחגוג אז ישר קבענו ביחד. אפילו את החדרים שלנו סגרנו כשהייתי בחול אצל לקוח של החברה שלי ככה שלא היה אכפת לי לפנות לזה זמן כדי שנוכל ללכת ולהנות שם. ואז התחילה הקורונה ושיהשה את כל התוכניות. יצא שבמשך תקופה מאוד ארוכה דחו את הקורונה בלי הפסקה מספר פעמים, כך שבמקום מאי של אותה שנה הפנגויה היתה בספטמבר שנתיים אחרי. וגם היה שינויים במסיבות ובתוכניה של הפנגויה , כלומר לא פנגויה רגילה אבל אחרי שנתיים לאף אחד לא אכפת. וכל אחת מהבנות גם היתה בסטטוס אחר , וכך יצא שבמקום 5 בנות נשארנו רק 3 (אבל לפחות החברות הכי טובות) במשך תקופה מאוד ארוכה תיכננו מה נקנה ומה נלבש ולאן נצא, אפילו קבענו מקום למסעדה שנקראת \" \"המחבוא של אדי\" \" ל 10 אנשים כמה חודשים מראש. ואז הגיע השבוע של לפני הפנגויה ההתרגשות בשיא אבל אני לא בהרגשה שיא. בהתחלה זה היה צינון ואחרי זה זה היה שיעול וחום ובסוף החלטתי לעשות בדיקת קורונה כדי להבין מה קורה איתי וקיבלתי תשובה חיובית. התבאסתי ברמות ונכנסתי לבידוד כדי לא להדביק אף אחד. וכך יצא שאחרי שנתיים שלמות של המתנה אני צריכה להמתין עוד שנה שלמה עד הפנגויה הבאה, קיבלתי תמונות וסרטונים שקרעו לי את הלב והוציאו לי את העיניים וגם לקחו לי את החוש טעם וריח שמשפיע עלי עד היום הזה. בקיצור כמה מסקנות יש מהסיפור הזה, דבר ראשון לא לצפות יותר מידי לדברים דבר שני להתחסן לקורונה כי זה לא היה נעים בכלל.'"
      ]
     },
     "execution_count": 10,
     "metadata": {},
     "output_type": "execute_result"
    }
   ],
   "source": [
    "df_train['story'].iloc[2]"
   ]
  },
  {
   "cell_type": "code",
   "execution_count": 11,
   "metadata": {},
   "outputs": [
    {
     "data": {
      "text/html": [
       "<div>\n",
       "<style scoped>\n",
       "    .dataframe tbody tr th:only-of-type {\n",
       "        vertical-align: middle;\n",
       "    }\n",
       "\n",
       "    .dataframe tbody tr th {\n",
       "        vertical-align: top;\n",
       "    }\n",
       "\n",
       "    .dataframe thead th {\n",
       "        text-align: right;\n",
       "    }\n",
       "</style>\n",
       "<table border=\"1\" class=\"dataframe\">\n",
       "  <thead>\n",
       "    <tr style=\"text-align: right;\">\n",
       "      <th></th>\n",
       "      <th>test_example_id</th>\n",
       "      <th>story</th>\n",
       "    </tr>\n",
       "  </thead>\n",
       "  <tbody>\n",
       "    <tr>\n",
       "      <th>0</th>\n",
       "      <td>0</td>\n",
       "      <td>כל קיץ אני והמשפחה נוסעים לארצות הברית לוס אנג...</td>\n",
       "    </tr>\n",
       "    <tr>\n",
       "      <th>1</th>\n",
       "      <td>1</td>\n",
       "      <td>הגעתי לשירות המדינה אחרי שנתיים כפעיל בתנועת \"...</td>\n",
       "    </tr>\n",
       "    <tr>\n",
       "      <th>2</th>\n",
       "      <td>2</td>\n",
       "      <td>אחת האהבות הגדולות שלי אלו הכלבים שלי ושל אישת...</td>\n",
       "    </tr>\n",
       "  </tbody>\n",
       "</table>\n",
       "</div>"
      ],
      "text/plain": [
       "   test_example_id                                              story\n",
       "0                0  כל קיץ אני והמשפחה נוסעים לארצות הברית לוס אנג...\n",
       "1                1  הגעתי לשירות המדינה אחרי שנתיים כפעיל בתנועת \"...\n",
       "2                2  אחת האהבות הגדולות שלי אלו הכלבים שלי ושל אישת..."
      ]
     },
     "execution_count": 11,
     "metadata": {},
     "output_type": "execute_result"
    },
    {
     "data": {
      "text/plain": [
       "(323, 2)"
      ]
     },
     "execution_count": 11,
     "metadata": {},
     "output_type": "execute_result"
    }
   ],
   "source": [
    "df_test.head(3)\n",
    "df_test.shape"
   ]
  },
  {
   "cell_type": "markdown",
   "metadata": {},
   "source": [
    "### Your implementation:\n",
    "Write your code solution in the following code-cells"
   ]
  },
  {
   "cell_type": "markdown",
   "metadata": {},
   "source": [
    "### Step 1: Prepare The Data To Tokenizing\n",
    "Data preparation for tokenization is essential to transform raw text into a format suitable for natural language processing tasks. By breaking the text into smaller units or tokens, it enables the extraction of meaningful features and patterns. Tokenization facilitates tasks such as sentiment analysis, topic modeling, and text classification. It plays a crucial role in understanding and analyzing textual data accurately and efficiently."
   ]
  },
  {
   "cell_type": "markdown",
   "metadata": {},
   "source": [
    "### Step 1.1: Cleaning The Data\n",
    "<div class=\"alert alert-block alert-info\">\n",
    "<u><b>Purpose of the step:</b></u>\n",
    "    \n",
    "To fix the data and remove all the unnecessary syntax(punctuation, numbers etc.)\n",
    "    \n",
    "<u><b>Explanation of the step:</b></u>\n",
    "    \n",
    "The function takes a piece of text as input.\n",
    "    \n",
    "It applies a regular expression pattern to remove any characters that are not Hebrew letters or whitespace from the text, resulting in **cleaned_text**.\n",
    "    \n",
    "The function then returns the **cleaned_text**, which represents the original text with non-Hebrew characters removed."
   ]
  },
  {
   "cell_type": "code",
   "execution_count": 12,
   "metadata": {},
   "outputs": [],
   "source": [
    "def clean_text(text):\n",
    "    cleaned_text = re.sub(r'[^\\u0590-\\u05FF\\s]', '', text)\n",
    "    return cleaned_text"
   ]
  },
  {
   "cell_type": "markdown",
   "metadata": {},
   "source": [
    "### Step 1.2: Apply The Fixed Data \n",
    "<div class=\"alert alert-block alert-info\">\n",
    "<u><b>Purpose of the step:</b></u>\n",
    "    \n",
    "To prepare the gender labels in a numeric format suitable for training machine learning models.\n",
    " \n",
    "<u><b>Explanation of the step:</b></u>\n",
    "    \n",
    "The code creates a copy of the original training dataframe, assigning it to the variable **df_train_tokenized**.\n",
    "    \n",
    "Then, it applies the function **clean_text** to the ***'story'*** column of the **df_train_tokenized** dataframe, performing text cleaning operations.\n",
    "    \n",
    "Afterward, a **LabelEncoder** object, **le**, is initialized and used to transform the ***'gender'*** column of the **df_train_tokenized** dataframe into numeric labels, which are stored in the **y_train** variable"
   ]
  },
  {
   "cell_type": "code",
   "execution_count": 13,
   "metadata": {},
   "outputs": [
    {
     "name": "stdout",
     "output_type": "stream",
     "text": [
      "The class f in y_train has switched to 0\n",
      "The class m in y_train has switched to 1\n"
     ]
    },
    {
     "data": {
      "text/html": [
       "<div>\n",
       "<style scoped>\n",
       "    .dataframe tbody tr th:only-of-type {\n",
       "        vertical-align: middle;\n",
       "    }\n",
       "\n",
       "    .dataframe tbody tr th {\n",
       "        vertical-align: top;\n",
       "    }\n",
       "\n",
       "    .dataframe thead th {\n",
       "        text-align: right;\n",
       "    }\n",
       "</style>\n",
       "<table border=\"1\" class=\"dataframe\">\n",
       "  <thead>\n",
       "    <tr style=\"text-align: right;\">\n",
       "      <th></th>\n",
       "      <th>story</th>\n",
       "      <th>gender</th>\n",
       "    </tr>\n",
       "  </thead>\n",
       "  <tbody>\n",
       "    <tr>\n",
       "      <th>0</th>\n",
       "      <td>כשחבר הזמין אותי לחול לא באמת חשבתי שזה יקרה פ...</td>\n",
       "      <td>m</td>\n",
       "    </tr>\n",
       "    <tr>\n",
       "      <th>1</th>\n",
       "      <td>לפני שהתגייסתי לצבא עשיתי כל מני מיונים ליחידו...</td>\n",
       "      <td>m</td>\n",
       "    </tr>\n",
       "    <tr>\n",
       "      <th>2</th>\n",
       "      <td>מאז שהתחילו הלימודים חלומו של כל סטודנט זה הפנ...</td>\n",
       "      <td>f</td>\n",
       "    </tr>\n",
       "    <tr>\n",
       "      <th>3</th>\n",
       "      <td>כשהייתי ילד מטוסים היה הדבר שהכי ריתק אותי בתו...</td>\n",
       "      <td>m</td>\n",
       "    </tr>\n",
       "    <tr>\n",
       "      <th>4</th>\n",
       "      <td>הייתי מדריכה בכפר נוער ומתאם הכפר היינו צריכים...</td>\n",
       "      <td>f</td>\n",
       "    </tr>\n",
       "    <tr>\n",
       "      <th>...</th>\n",
       "      <td>...</td>\n",
       "      <td>...</td>\n",
       "    </tr>\n",
       "    <tr>\n",
       "      <th>748</th>\n",
       "      <td>אז לפני שנה בדיוק טסתי לאמסטרדם עם שני חברים ט...</td>\n",
       "      <td>m</td>\n",
       "    </tr>\n",
       "    <tr>\n",
       "      <th>749</th>\n",
       "      <td>שבוע שעבר העליתי באופן ספונטני רעיון לנסוע עם ...</td>\n",
       "      <td>m</td>\n",
       "    </tr>\n",
       "    <tr>\n",
       "      <th>750</th>\n",
       "      <td>לפני חודש עברנו לדירה בבית שמש בעקבות משפחתי ה...</td>\n",
       "      <td>m</td>\n",
       "    </tr>\n",
       "    <tr>\n",
       "      <th>751</th>\n",
       "      <td>החוויה אותה ארצה לשתף התרחשה לפני כמה חודשים ז...</td>\n",
       "      <td>f</td>\n",
       "    </tr>\n",
       "    <tr>\n",
       "      <th>752</th>\n",
       "      <td>פעם כשהייתי בחו ל בקבולומביה כחלק מהטיול שלי ל...</td>\n",
       "      <td>m</td>\n",
       "    </tr>\n",
       "  </tbody>\n",
       "</table>\n",
       "<p>753 rows × 2 columns</p>\n",
       "</div>"
      ],
      "text/plain": [
       "                                                 story gender\n",
       "0    כשחבר הזמין אותי לחול לא באמת חשבתי שזה יקרה פ...      m\n",
       "1    לפני שהתגייסתי לצבא עשיתי כל מני מיונים ליחידו...      m\n",
       "2    מאז שהתחילו הלימודים חלומו של כל סטודנט זה הפנ...      f\n",
       "3    כשהייתי ילד מטוסים היה הדבר שהכי ריתק אותי בתו...      m\n",
       "4    הייתי מדריכה בכפר נוער ומתאם הכפר היינו צריכים...      f\n",
       "..                                                 ...    ...\n",
       "748  אז לפני שנה בדיוק טסתי לאמסטרדם עם שני חברים ט...      m\n",
       "749  שבוע שעבר העליתי באופן ספונטני רעיון לנסוע עם ...      m\n",
       "750  לפני חודש עברנו לדירה בבית שמש בעקבות משפחתי ה...      m\n",
       "751  החוויה אותה ארצה לשתף התרחשה לפני כמה חודשים ז...      f\n",
       "752  פעם כשהייתי בחו ל בקבולומביה כחלק מהטיול שלי ל...      m\n",
       "\n",
       "[753 rows x 2 columns]"
      ]
     },
     "execution_count": 13,
     "metadata": {},
     "output_type": "execute_result"
    }
   ],
   "source": [
    "df_train_tokenized = df_train.copy()\n",
    "df_train_tokenized['story'] = df_train_tokenized['story'].apply(clean_text)\n",
    "le = LabelEncoder()\n",
    "y_train = le.fit_transform(df_train_tokenized['gender'])\n",
    "for i, class_ in enumerate(le.classes_):\n",
    "    print(f\"The class {class_} in y_train has switched to {i}\")\n",
    "df_train_tokenized"
   ]
  },
  {
   "cell_type": "markdown",
   "metadata": {},
   "source": [
    "### Step 2: Prepare For Evaluation\n",
    "Preparing for evaluation with the provided functions allows for exploring different models and their hyperparameter configurations, facilitating the identification of optimal settings for improved performance and accuracy assessment."
   ]
  },
  {
   "cell_type": "markdown",
   "metadata": {},
   "source": [
    "### Step 2.1: Define The Dictionaries That We Used\n",
    "\n",
    "<div class=\"alert alert-block alert-info\">\n",
    "<u><b>Purpose of the step:</b></u>\n",
    "    \n",
    " To define and configure different classifiers, vectorizers, and their corresponding parameters for training and evaluating machine learning models in a text classification task.\n",
    " \n",
    "<u><b>Explanation of the step:</b></u>\n",
    "    \n",
    "- The **classifiers** dictionary contains various classifier models with their respective names as keys.\n",
    "    \n",
    "- The **vectorizers** dictionary holds different vectorizer models along with their names as keys.\n",
    "    \n",
    "- The **vectorizer_params** dictionary specifies the parameter grids for each vectorizer, determining the different combinations of hyperparameters to be explored during the model evaluation process.\n",
    "    \n",
    "- The **param_grids** dictionary defines the parameter grids for each classifier, specifying the hyperparameters to be tuned for each classifier model."
   ]
  },
  {
   "cell_type": "code",
   "execution_count": 14,
   "metadata": {},
   "outputs": [],
   "source": [
    "classifiers = {\n",
    "    'MultinomialNB': MultinomialNB(),\n",
    "    'LinearSVC': LinearSVC(),\n",
    "    'SGDClassifier': SGDClassifier(),\n",
    "    'Perceptron': Perceptron(),\n",
    "    'LogisticRegression': LogisticRegression(),\n",
    "    'DecisionTree': DecisionTreeClassifier(),\n",
    "    'KNN': KNeighborsClassifier()\n",
    "}\n",
    "vectorizers = {\n",
    "    'TF-IDF': TfidfVectorizer(),\n",
    "    'CountVectorizer': CountVectorizer()\n",
    "}\n",
    "vectorizer_params = {\n",
    "    'TF-IDF': {\n",
    "        'vectorizer__max_features': [10000, 20000, 30000],\n",
    "        'vectorizer__min_df': [1, 3],\n",
    "        'vectorizer__ngram_range': [(1, 1), (1, 2)]\n",
    "    },\n",
    "    'CountVectorizer': {\n",
    "        'vectorizer__max_features': [10000, 20000, 30000],\n",
    "        'vectorizer__min_df': [1, 3],\n",
    "        'vectorizer__ngram_range': [(1, 1), (1, 2)]\n",
    "    }\n",
    "}\n",
    "param_grids = {\n",
    "    'MultinomialNB': {'classifier__alpha': [0.1, 0.5, 1, 10]},\n",
    "    'LinearSVC': {'classifier__C': [0.1, 0.5, 1], 'classifier__penalty': ['l2'], 'classifier__loss': ['squared_hinge'], 'classifier__max_iter': [1000]},\n",
    "    'SGDClassifier': {'classifier__alpha': [0.0001, 0.001, 0.01], 'classifier__loss': ['hinge', 'log', 'modified_huber'], 'classifier__penalty': ['l2', 'l1', 'elasticnet'], 'classifier__max_iter': [1000]},\n",
    "    'Perceptron': {'classifier__alpha': [0.001, 0.05, 0.1], 'classifier__penalty': [None, 'l2', 'l1', 'elasticnet'], 'classifier__max_iter': [1000]},\n",
    "    'LogisticRegression': {'classifier__C': [0.01, 0.1, 1.0, 10.0], 'classifier__penalty': ['l1', 'l2'], 'classifier__solver': ['liblinear', 'saga'], 'classifier__max_iter': [1000]},\n",
    "    'DecisionTree': {'classifier__max_depth': [3, 5, 7, 10], 'classifier__criterion': ['gini', 'entropy']},\n",
    "    'KNN': {'classifier__n_neighbors': [3, 5, 7], 'classifier__weights': ['uniform', 'distance'], 'classifier__metric': ['cosine', 'euclidean']}\n",
    "}"
   ]
  },
  {
   "cell_type": "markdown",
   "metadata": {},
   "source": [
    "### Step 2.2: Define The Function To Create Pipline\n",
    "<div class=\"alert alert-block alert-info\">\n",
    "<u><b>Purpose of the step:</b></u>\n",
    "    \n",
    " The creation of pipeline is to streamline and automate the process of constructing a sequence of data transformation and model training steps for machine learning.\n",
    " \n",
    "<u><b>Explanation of the step:</b></u>\n",
    "    \n",
    " The function has generates a **list** of pipelines.\n",
    "    \n",
    "Each pipeline is a sequence of data processing components, including a vectorizer, scaler, and classifier.\n",
    "    \n",
    "Then, the function iterates over the available vectorizers and classifiers, creates a pipeline by combining them with a **MaxAbsScaler()** for data normalization, and adds the pipeline to the list of pipelines.\n",
    "    \n",
    "Finally, the function returns the **list** of pipelines for further use in the project."
   ]
  },
  {
   "cell_type": "code",
   "execution_count": 15,
   "metadata": {},
   "outputs": [],
   "source": [
    "def create_pipelines():\n",
    "    pipelines = []\n",
    "    \n",
    "    for vectorizer_name, vectorizer in vectorizers.items():\n",
    "        for classifier_name, classifier in classifiers.items():\n",
    "            pipeline = Pipeline([\n",
    "                ('vectorizer', vectorizer),\n",
    "                ('scaler', MaxAbsScaler()),\n",
    "                ('classifier', classifier)])\n",
    "            \n",
    "            pipelines.append((f'{classifier_name} with {vectorizer_name}', pipeline))\n",
    "    \n",
    "    return pipelines"
   ]
  },
  {
   "cell_type": "markdown",
   "metadata": {},
   "source": [
    "### Step 2.3: Define The Function To Split The DataFrame\n",
    "<div class=\"alert alert-block alert-info\">\n",
    "<u><b>Purpose of the step:</b></u>\n",
    "    \n",
    " To split the dataset into training and testing sets, separating the input features ***'story'*** into **X_train** and **X_test**, and the target variable ***'gender'*** into **y_train** and **y_test**.\n",
    "    \n",
    "<u><b>Explanation of the step:</b></u>\n",
    "    \n",
    " The function takes a DataFrame df as input and performs a **train-test()** split on the data. \n",
    "    \n",
    "It splits the ***'story'*** column as the input features into **X_train** and **X_test**, and the ***'gender'*** column as the target variable into **y_train** and **y_test**.\n",
    "    \n",
    "The split is done with a test size of 20% and a random state of 42, ensuring consistent results for reproducibility.\n",
    "    \n",
    "The function then returns the four resulting arrays: **X_train**, **X_test**, **y_train**, and **y_test**."
   ]
  },
  {
   "cell_type": "code",
   "execution_count": 16,
   "metadata": {},
   "outputs": [],
   "source": [
    "def train_test_split_func(df):\n",
    "    X_train, X_test, y_train, y_test = train_test_split(df[\"story\"], df[\"gender\"], test_size=0.2, random_state=42)\n",
    "    return X_train, X_test, y_train, y_test"
   ]
  },
  {
   "cell_type": "markdown",
   "metadata": {},
   "source": [
    "### Step 2.4: Define The Function To Find The Best Params\n",
    "<div class=\"alert alert-block alert-info\">\n",
    "<u><b>Purpose of the step:</b></u>\n",
    " To perform a grid search with cross-validation on a given pipeline and parameter grid to identify the best combination of \n",
    "hyperparameters that maximizes the model's performance on the training data. It returns the best parameters found during the grid search.\n",
    "    \n",
    "<u><b>Explanation of the step:</b></u>\n",
    " The function performs a grid search with cross-validation to find the best combination of hyperparameters for a given pipeline using the provided parameter grid. \n",
    "    \n",
    "It fits the pipeline on the training data and evaluates the performance using cross-validation. \n",
    "    \n",
    "The function then retrieves and returns the best parameters that yielded the highest performance during the grid search."
   ]
  },
  {
   "cell_type": "code",
   "execution_count": 17,
   "metadata": {},
   "outputs": [],
   "source": [
    "def find_best_parameters(pipeline, param_grid, X_train, y_train):\n",
    "    grid_search = GridSearchCV(pipeline, param_grid, cv=5)\n",
    "    grid_search.fit(X_train, y_train)\n",
    "    best_params = grid_search.best_params_\n",
    "    return best_params"
   ]
  },
  {
   "cell_type": "markdown",
   "metadata": {},
   "source": [
    "### Step 2.5:  Define The Function To  Evaluate The Model\n",
    "<div class=\"alert alert-block alert-info\">\n",
    "<u><b>Purpose of the step:</b></u>\n",
    "    \n",
    " To train the given model on the training data, evaluates its performance using cross-validation, and calculates the average F1 score.\n",
    "It also returns the trained model and the average F1 score as the evaluation result.\n",
    "    \n",
    "<u><b>Explanation of the step:</b></u>\n",
    "    \n",
    " The function takes a model, training data, and test data as inputs. It fits the model to the training data, performs cross-validation to evaluate the model's performance using F1 score, and calculates the average F1 score.\n",
    "    \n",
    "It then predicts the labels for the test data, evaluates the model's F1 score separately for each gender, and computes the average F1 score as the overall evaluation metric.\n",
    "    \n",
    "The function returns the trained model and the average F1 score."
   ]
  },
  {
   "cell_type": "code",
   "execution_count": 18,
   "metadata": {},
   "outputs": [],
   "source": [
    "def fit_predict_evaluate(model_name, X_train, X_test, y_train, y_test):\n",
    "    model_trained = model_name.fit(X_train, y_train)  #Fitting our model with the train values\n",
    "    cv = RepeatedKFold(n_splits=5, n_repeats=4, random_state=42)  #Using different amount of folds for cross_val_score function\n",
    "    f1_scorer = make_scorer(f1_score)\n",
    "    scores = cross_val_score(model_trained, X_test, y_test, scoring=f1_scorer, cv=cv, n_jobs=-1)\n",
    "    scores\n",
    "    \n",
    "    y_pred = model_trained.predict(X_test)\n",
    "    f1_male = f1_score(y_test, y_pred, pos_label='f') #Evaluate the performance for male\n",
    "    f1_female = f1_score(y_test, y_pred, pos_label='m') #Evaluate the performance for female\n",
    "\n",
    "    f1_average = (f1_male + f1_female) / 2\n",
    "    return model_trained, f1_average"
   ]
  },
  {
   "cell_type": "markdown",
   "metadata": {},
   "source": [
    "### Step 3: Evaluation\n",
    "The evaluation step assesses the model's performance in classifying the gender of stories.\n",
    "\n",
    "It provides insights into the model's accuracy and effectiveness, guiding decisions on its deployment and potential improvements."
   ]
  },
  {
   "cell_type": "markdown",
   "metadata": {},
   "source": [
    "### Step 3.1: Data Split And Pipeline Creation"
   ]
  },
  {
   "cell_type": "code",
   "execution_count": 51,
   "metadata": {},
   "outputs": [],
   "source": [
    "X_train, X_test, y_train, y_test = train_test_split_func(df_train_tokenized)\n",
    "X_df_test = df_test['story']\n",
    "df_predicted = []\n",
    "pipelines = create_pipelines()"
   ]
  },
  {
   "cell_type": "markdown",
   "metadata": {},
   "source": [
    "<div class=\"alert alert-block alert-info\">\n",
    "<u><b>Purpose of the step:</b></u>\n",
    "    \n",
    "To split the dataset into training and testing sets, while the **create_pipelines()** function aims to generate a collection of pipelines with different combinations of vectorizers and classifiers for model training and evaluation.\n",
    "    \n",
    "<u><b>Explanation of the step:</b></u>\n",
    "    \n",
    " The code **X_train, X_test, y_train, y_test = train_test_split_func(df_train_tokenized)** splits the **df_train_tokenized** dataset into training and testing sets, assigning the respective features and labels to **X_train**, **X_test**, **y_train**, and **y_test** variables.\n",
    "\n",
    "The code **pipelines = create_pipelines()** generates a collection of pipelines using different combinations of vectorizers and classifiers, providing a variety of models for training and evaluation.\n",
    "\n",
    "Together, these two lines of code prepare the data for model development and evaluation by creating the necessary training and testing sets and generating multiple pipelines to explore different model configurations."
   ]
  },
  {
   "cell_type": "markdown",
   "metadata": {},
   "source": [
    "### Step 3.2: Starting Evaluating\n",
    "<div class=\"alert alert-block alert-info\">\n",
    "<u><b>Purpose of the step:</b></u>\n",
    "    \n",
    "To iterate over each pipeline, find the best parameters for each pipeline using **GridSearchCV()**, update the pipeline with the best parameters, fit the pipeline on the training data, evaluate its performance, and print the F1-score for each pipeline.\n",
    "\n",
    "<u><b>Explanation of the step:</b></u>\n",
    "    \n",
    " In this code, for each pipeline in the **list** of **pipelines**, the code prints the pipeline name and starts the process.\n",
    "    \n",
    "It then defines the parameter grid specific to the current **pipeline** and finds the best parameters using **GridSearchCV()**.\n",
    "    \n",
    "The **pipeline** is updated with the best parameters, fitted on the training data, and evaluated using the **fit_predict_evaluate()** function.\n",
    "    \n",
    "The F1-score is printed, and the process for the current pipeline ends."
   ]
  },
  {
   "cell_type": "code",
   "execution_count": 89,
   "metadata": {},
   "outputs": [
    {
     "name": "stdout",
     "output_type": "stream",
     "text": [
      "MultinomialNB with TF-IDF Starting...\n"
     ]
    },
    {
     "data": {
      "text/plain": [
       "Pipeline(steps=[('vectorizer', TfidfVectorizer()), ('scaler', MaxAbsScaler()),\n",
       "                ('classifier', MultinomialNB(alpha=1))])"
      ]
     },
     "execution_count": 89,
     "metadata": {},
     "output_type": "execute_result"
    },
    {
     "data": {
      "text/plain": [
       "Pipeline(steps=[('vectorizer', TfidfVectorizer()), ('scaler', MaxAbsScaler()),\n",
       "                ('classifier', MultinomialNB(alpha=1))])"
      ]
     },
     "execution_count": 89,
     "metadata": {},
     "output_type": "execute_result"
    },
    {
     "name": "stdout",
     "output_type": "stream",
     "text": [
      "F1-score: 0.485\n",
      "MultinomialNB with TF-IDF Ended\n",
      "-----------------------------\n",
      "\n",
      "\n",
      "LinearSVC with TF-IDF Starting...\n"
     ]
    },
    {
     "data": {
      "text/plain": [
       "Pipeline(steps=[('vectorizer', TfidfVectorizer()), ('scaler', MaxAbsScaler()),\n",
       "                ('classifier', LinearSVC(C=0.5))])"
      ]
     },
     "execution_count": 89,
     "metadata": {},
     "output_type": "execute_result"
    },
    {
     "data": {
      "text/plain": [
       "Pipeline(steps=[('vectorizer', TfidfVectorizer()), ('scaler', MaxAbsScaler()),\n",
       "                ('classifier', LinearSVC(C=0.5))])"
      ]
     },
     "execution_count": 89,
     "metadata": {},
     "output_type": "execute_result"
    },
    {
     "name": "stdout",
     "output_type": "stream",
     "text": [
      "F1-score: 0.558\n",
      "LinearSVC with TF-IDF Ended\n",
      "-----------------------------\n",
      "\n",
      "\n",
      "SGDClassifier with TF-IDF Starting...\n"
     ]
    },
    {
     "data": {
      "text/plain": [
       "Pipeline(steps=[('vectorizer', TfidfVectorizer()), ('scaler', MaxAbsScaler()),\n",
       "                ('classifier',\n",
       "                 SGDClassifier(alpha=0.001, loss='log', penalty='elasticnet'))])"
      ]
     },
     "execution_count": 89,
     "metadata": {},
     "output_type": "execute_result"
    },
    {
     "data": {
      "text/plain": [
       "Pipeline(steps=[('vectorizer', TfidfVectorizer()), ('scaler', MaxAbsScaler()),\n",
       "                ('classifier',\n",
       "                 SGDClassifier(alpha=0.001, loss='log', penalty='elasticnet'))])"
      ]
     },
     "execution_count": 89,
     "metadata": {},
     "output_type": "execute_result"
    },
    {
     "name": "stdout",
     "output_type": "stream",
     "text": [
      "F1-score: 0.506\n",
      "SGDClassifier with TF-IDF Ended\n",
      "-----------------------------\n",
      "\n",
      "\n",
      "Perceptron with TF-IDF Starting...\n"
     ]
    },
    {
     "data": {
      "text/plain": [
       "Pipeline(steps=[('vectorizer', TfidfVectorizer()), ('scaler', MaxAbsScaler()),\n",
       "                ('classifier', Perceptron(alpha=0.001))])"
      ]
     },
     "execution_count": 89,
     "metadata": {},
     "output_type": "execute_result"
    },
    {
     "data": {
      "text/plain": [
       "Pipeline(steps=[('vectorizer', TfidfVectorizer()), ('scaler', MaxAbsScaler()),\n",
       "                ('classifier', Perceptron(alpha=0.001))])"
      ]
     },
     "execution_count": 89,
     "metadata": {},
     "output_type": "execute_result"
    },
    {
     "name": "stdout",
     "output_type": "stream",
     "text": [
      "F1-score: 0.651\n",
      "Perceptron with TF-IDF Ended\n",
      "-----------------------------\n",
      "\n",
      "\n",
      "LogisticRegression with TF-IDF Starting...\n"
     ]
    },
    {
     "data": {
      "text/plain": [
       "Pipeline(steps=[('vectorizer', TfidfVectorizer()), ('scaler', MaxAbsScaler()),\n",
       "                ('classifier',\n",
       "                 LogisticRegression(C=10.0, max_iter=1000, penalty='l1',\n",
       "                                    solver='saga'))])"
      ]
     },
     "execution_count": 89,
     "metadata": {},
     "output_type": "execute_result"
    },
    {
     "data": {
      "text/plain": [
       "Pipeline(steps=[('vectorizer', TfidfVectorizer()), ('scaler', MaxAbsScaler()),\n",
       "                ('classifier',\n",
       "                 LogisticRegression(C=10.0, max_iter=1000, penalty='l1',\n",
       "                                    solver='saga'))])"
      ]
     },
     "execution_count": 89,
     "metadata": {},
     "output_type": "execute_result"
    },
    {
     "name": "stdout",
     "output_type": "stream",
     "text": [
      "F1-score: 0.682\n",
      "LogisticRegression with TF-IDF Ended\n",
      "-----------------------------\n",
      "\n",
      "\n",
      "DecisionTree with TF-IDF Starting...\n"
     ]
    },
    {
     "data": {
      "text/plain": [
       "Pipeline(steps=[('vectorizer', TfidfVectorizer()), ('scaler', MaxAbsScaler()),\n",
       "                ('classifier',\n",
       "                 DecisionTreeClassifier(criterion='entropy', max_depth=3))])"
      ]
     },
     "execution_count": 89,
     "metadata": {},
     "output_type": "execute_result"
    },
    {
     "data": {
      "text/plain": [
       "Pipeline(steps=[('vectorizer', TfidfVectorizer()), ('scaler', MaxAbsScaler()),\n",
       "                ('classifier',\n",
       "                 DecisionTreeClassifier(criterion='entropy', max_depth=3))])"
      ]
     },
     "execution_count": 89,
     "metadata": {},
     "output_type": "execute_result"
    },
    {
     "name": "stdout",
     "output_type": "stream",
     "text": [
      "F1-score: 0.584\n",
      "DecisionTree with TF-IDF Ended\n",
      "-----------------------------\n",
      "\n",
      "\n",
      "KNN with TF-IDF Starting...\n"
     ]
    },
    {
     "data": {
      "text/plain": [
       "Pipeline(steps=[('vectorizer', TfidfVectorizer()), ('scaler', MaxAbsScaler()),\n",
       "                ('classifier',\n",
       "                 KNeighborsClassifier(metric='euclidean', weights='distance'))])"
      ]
     },
     "execution_count": 89,
     "metadata": {},
     "output_type": "execute_result"
    },
    {
     "data": {
      "text/plain": [
       "Pipeline(steps=[('vectorizer', TfidfVectorizer()), ('scaler', MaxAbsScaler()),\n",
       "                ('classifier',\n",
       "                 KNeighborsClassifier(metric='euclidean', weights='distance'))])"
      ]
     },
     "execution_count": 89,
     "metadata": {},
     "output_type": "execute_result"
    },
    {
     "name": "stdout",
     "output_type": "stream",
     "text": [
      "F1-score: 0.430\n",
      "KNN with TF-IDF Ended\n",
      "-----------------------------\n",
      "\n",
      "\n",
      "MultinomialNB with CountVectorizer Starting...\n"
     ]
    },
    {
     "data": {
      "text/plain": [
       "Pipeline(steps=[('vectorizer', CountVectorizer()), ('scaler', MaxAbsScaler()),\n",
       "                ('classifier', MultinomialNB(alpha=1))])"
      ]
     },
     "execution_count": 89,
     "metadata": {},
     "output_type": "execute_result"
    },
    {
     "data": {
      "text/plain": [
       "Pipeline(steps=[('vectorizer', CountVectorizer()), ('scaler', MaxAbsScaler()),\n",
       "                ('classifier', MultinomialNB(alpha=1))])"
      ]
     },
     "execution_count": 89,
     "metadata": {},
     "output_type": "execute_result"
    },
    {
     "name": "stdout",
     "output_type": "stream",
     "text": [
      "F1-score: 0.458\n",
      "MultinomialNB with CountVectorizer Ended\n",
      "-----------------------------\n",
      "\n",
      "\n",
      "LinearSVC with CountVectorizer Starting...\n"
     ]
    },
    {
     "data": {
      "text/plain": [
       "Pipeline(steps=[('vectorizer', CountVectorizer()), ('scaler', MaxAbsScaler()),\n",
       "                ('classifier', LinearSVC(C=0.1))])"
      ]
     },
     "execution_count": 89,
     "metadata": {},
     "output_type": "execute_result"
    },
    {
     "data": {
      "text/plain": [
       "Pipeline(steps=[('vectorizer', CountVectorizer()), ('scaler', MaxAbsScaler()),\n",
       "                ('classifier', LinearSVC(C=0.1))])"
      ]
     },
     "execution_count": 89,
     "metadata": {},
     "output_type": "execute_result"
    },
    {
     "name": "stdout",
     "output_type": "stream",
     "text": [
      "F1-score: 0.485\n",
      "LinearSVC with CountVectorizer Ended\n",
      "-----------------------------\n",
      "\n",
      "\n",
      "SGDClassifier with CountVectorizer Starting...\n"
     ]
    },
    {
     "data": {
      "text/plain": [
       "Pipeline(steps=[('vectorizer', CountVectorizer()), ('scaler', MaxAbsScaler()),\n",
       "                ('classifier',\n",
       "                 SGDClassifier(alpha=0.001, penalty='elasticnet'))])"
      ]
     },
     "execution_count": 89,
     "metadata": {},
     "output_type": "execute_result"
    },
    {
     "data": {
      "text/plain": [
       "Pipeline(steps=[('vectorizer', CountVectorizer()), ('scaler', MaxAbsScaler()),\n",
       "                ('classifier',\n",
       "                 SGDClassifier(alpha=0.001, penalty='elasticnet'))])"
      ]
     },
     "execution_count": 89,
     "metadata": {},
     "output_type": "execute_result"
    },
    {
     "name": "stdout",
     "output_type": "stream",
     "text": [
      "F1-score: 0.649\n",
      "SGDClassifier with CountVectorizer Ended\n",
      "-----------------------------\n",
      "\n",
      "\n",
      "Perceptron with CountVectorizer Starting...\n"
     ]
    },
    {
     "data": {
      "text/plain": [
       "Pipeline(steps=[('vectorizer', CountVectorizer()), ('scaler', MaxAbsScaler()),\n",
       "                ('classifier', Perceptron(alpha=0.001))])"
      ]
     },
     "execution_count": 89,
     "metadata": {},
     "output_type": "execute_result"
    },
    {
     "data": {
      "text/plain": [
       "Pipeline(steps=[('vectorizer', CountVectorizer()), ('scaler', MaxAbsScaler()),\n",
       "                ('classifier', Perceptron(alpha=0.001))])"
      ]
     },
     "execution_count": 89,
     "metadata": {},
     "output_type": "execute_result"
    },
    {
     "name": "stdout",
     "output_type": "stream",
     "text": [
      "F1-score: 0.657\n",
      "Perceptron with CountVectorizer Ended\n",
      "-----------------------------\n",
      "\n",
      "\n",
      "LogisticRegression with CountVectorizer Starting...\n"
     ]
    },
    {
     "data": {
      "text/plain": [
       "Pipeline(steps=[('vectorizer', CountVectorizer()), ('scaler', MaxAbsScaler()),\n",
       "                ('classifier',\n",
       "                 LogisticRegression(C=10.0, max_iter=1000, penalty='l1',\n",
       "                                    solver='saga'))])"
      ]
     },
     "execution_count": 89,
     "metadata": {},
     "output_type": "execute_result"
    },
    {
     "data": {
      "text/plain": [
       "Pipeline(steps=[('vectorizer', CountVectorizer()), ('scaler', MaxAbsScaler()),\n",
       "                ('classifier',\n",
       "                 LogisticRegression(C=10.0, max_iter=1000, penalty='l1',\n",
       "                                    solver='saga'))])"
      ]
     },
     "execution_count": 89,
     "metadata": {},
     "output_type": "execute_result"
    },
    {
     "name": "stdout",
     "output_type": "stream",
     "text": [
      "F1-score: 0.622\n",
      "LogisticRegression with CountVectorizer Ended\n",
      "-----------------------------\n",
      "\n",
      "\n",
      "DecisionTree with CountVectorizer Starting...\n"
     ]
    },
    {
     "data": {
      "text/plain": [
       "Pipeline(steps=[('vectorizer', CountVectorizer()), ('scaler', MaxAbsScaler()),\n",
       "                ('classifier',\n",
       "                 DecisionTreeClassifier(criterion='entropy', max_depth=3))])"
      ]
     },
     "execution_count": 89,
     "metadata": {},
     "output_type": "execute_result"
    },
    {
     "data": {
      "text/plain": [
       "Pipeline(steps=[('vectorizer', CountVectorizer()), ('scaler', MaxAbsScaler()),\n",
       "                ('classifier',\n",
       "                 DecisionTreeClassifier(criterion='entropy', max_depth=3))])"
      ]
     },
     "execution_count": 89,
     "metadata": {},
     "output_type": "execute_result"
    },
    {
     "name": "stdout",
     "output_type": "stream",
     "text": [
      "F1-score: 0.564\n",
      "DecisionTree with CountVectorizer Ended\n",
      "-----------------------------\n",
      "\n",
      "\n",
      "KNN with CountVectorizer Starting...\n"
     ]
    },
    {
     "data": {
      "text/plain": [
       "Pipeline(steps=[('vectorizer', CountVectorizer()), ('scaler', MaxAbsScaler()),\n",
       "                ('classifier',\n",
       "                 KNeighborsClassifier(metric='euclidean', n_neighbors=3,\n",
       "                                      weights='distance'))])"
      ]
     },
     "execution_count": 89,
     "metadata": {},
     "output_type": "execute_result"
    },
    {
     "data": {
      "text/plain": [
       "Pipeline(steps=[('vectorizer', CountVectorizer()), ('scaler', MaxAbsScaler()),\n",
       "                ('classifier',\n",
       "                 KNeighborsClassifier(metric='euclidean', n_neighbors=3,\n",
       "                                      weights='distance'))])"
      ]
     },
     "execution_count": 89,
     "metadata": {},
     "output_type": "execute_result"
    },
    {
     "name": "stdout",
     "output_type": "stream",
     "text": [
      "F1-score: 0.430\n",
      "KNN with CountVectorizer Ended\n",
      "-----------------------------\n",
      "\n",
      "\n"
     ]
    }
   ],
   "source": [
    "f1_scores = []\n",
    "for pipeline_name, pipeline in pipelines:\n",
    "    print(f'{pipeline_name} Starting...')\n",
    "    param_grid = param_grids[pipeline_name.split(' ')[0]] # Define the parameter grid for the current pipeline\n",
    "    best_params = find_best_parameters(pipeline, param_grid, X_train, y_train) # Find the best parameters using GridSearchCV\n",
    "    pipeline.set_params(**best_params)# Update the pipeline with the best parameters\n",
    "    pipeline.fit(X_train, y_train)# Fit the pipeline on training data with the best parameters\n",
    "    model_trained, f1_average = fit_predict_evaluate(pipeline, X_train, X_test, y_train, y_test)# Use the fit_predict_evaluate function to get predictions and evaluate performance\n",
    "    f1_scores.append({f'{pipeline_name}': f'{f1_average:.3f}'})\n",
    "    print(f'F1-score: {f1_average:.3f}')\n",
    "    print(f'{pipeline_name} Ended')\n",
    "    print('-----------------------------\\n\\n')"
   ]
  },
  {
   "cell_type": "markdown",
   "metadata": {},
   "source": [
    "### Step 4: Results"
   ]
  },
  {
   "cell_type": "markdown",
   "metadata": {},
   "source": [
    "### Step 4.1: Define The Function To Make List Of Lists\n",
    "<div class=\"alert alert-block alert-info\">\n",
    "<u><b>Purpose of the step:</b></u>\n",
    "    \n",
    "To convert a list of dictionaries into a list of lists, where each inner list contains the keys or values from each dictionary.\n",
    "\n",
    "<u><b>Explanation of the step:</b></u>\n",
    "    \n",
    " The code creates an empty **list lst_to_return** to store the final result and a temporary list temp for intermediate calculations.\n",
    "    \n",
    "It then iterates over each dictionary in the input, extracts the keys or values using **list(dic.keys())[0]** and **list(dic.values())[0]**, and appends them to temp.\n",
    "    \n",
    "Finally, temp is appended to **lst_to_return**, resulting in a list of lists where each inner list contains the keys or values from each dictionary in the input."
   ]
  },
  {
   "cell_type": "code",
   "execution_count": 119,
   "metadata": {},
   "outputs": [],
   "source": [
    "def list_of_lists(dictionary): \n",
    "    lst_to_reutrn = []\n",
    "    temp = []\n",
    "    for dic in dictionary:\n",
    "        temp.append(list(dic.keys())[0])\n",
    "    lst_to_reutrn.append(temp)\n",
    "    temp =[]\n",
    "    for dic in dictionary:\n",
    "        temp.append(list(dic.values())[0])\n",
    "        lst_to_reutrn.append(temp)\n",
    "    return lst_to_reutrn"
   ]
  },
  {
   "cell_type": "markdown",
   "metadata": {},
   "source": [
    "### Step 4.2: Make DataFrame Of The Results"
   ]
  },
  {
   "cell_type": "code",
   "execution_count": 120,
   "metadata": {},
   "outputs": [
    {
     "data": {
      "text/html": [
       "<div>\n",
       "<style scoped>\n",
       "    .dataframe tbody tr th:only-of-type {\n",
       "        vertical-align: middle;\n",
       "    }\n",
       "\n",
       "    .dataframe tbody tr th {\n",
       "        vertical-align: top;\n",
       "    }\n",
       "\n",
       "    .dataframe thead th {\n",
       "        text-align: right;\n",
       "    }\n",
       "</style>\n",
       "<table border=\"1\" class=\"dataframe\">\n",
       "  <thead>\n",
       "    <tr style=\"text-align: right;\">\n",
       "      <th></th>\n",
       "      <th>Pipeline</th>\n",
       "      <th>f1_score</th>\n",
       "    </tr>\n",
       "  </thead>\n",
       "  <tbody>\n",
       "    <tr>\n",
       "      <th>0</th>\n",
       "      <td>MultinomialNB with TF-IDF</td>\n",
       "      <td>0.485</td>\n",
       "    </tr>\n",
       "    <tr>\n",
       "      <th>1</th>\n",
       "      <td>LinearSVC with TF-IDF</td>\n",
       "      <td>0.558</td>\n",
       "    </tr>\n",
       "    <tr>\n",
       "      <th>2</th>\n",
       "      <td>SGDClassifier with TF-IDF</td>\n",
       "      <td>0.506</td>\n",
       "    </tr>\n",
       "    <tr>\n",
       "      <th>3</th>\n",
       "      <td>Perceptron with TF-IDF</td>\n",
       "      <td>0.651</td>\n",
       "    </tr>\n",
       "    <tr>\n",
       "      <th>4</th>\n",
       "      <td>LogisticRegression with TF-IDF</td>\n",
       "      <td>0.682</td>\n",
       "    </tr>\n",
       "    <tr>\n",
       "      <th>5</th>\n",
       "      <td>DecisionTree with TF-IDF</td>\n",
       "      <td>0.584</td>\n",
       "    </tr>\n",
       "    <tr>\n",
       "      <th>6</th>\n",
       "      <td>KNN with TF-IDF</td>\n",
       "      <td>0.430</td>\n",
       "    </tr>\n",
       "    <tr>\n",
       "      <th>7</th>\n",
       "      <td>MultinomialNB with CountVectorizer</td>\n",
       "      <td>0.458</td>\n",
       "    </tr>\n",
       "    <tr>\n",
       "      <th>8</th>\n",
       "      <td>LinearSVC with CountVectorizer</td>\n",
       "      <td>0.485</td>\n",
       "    </tr>\n",
       "    <tr>\n",
       "      <th>9</th>\n",
       "      <td>SGDClassifier with CountVectorizer</td>\n",
       "      <td>0.649</td>\n",
       "    </tr>\n",
       "    <tr>\n",
       "      <th>10</th>\n",
       "      <td>Perceptron with CountVectorizer</td>\n",
       "      <td>0.657</td>\n",
       "    </tr>\n",
       "    <tr>\n",
       "      <th>11</th>\n",
       "      <td>LogisticRegression with CountVectorizer</td>\n",
       "      <td>0.622</td>\n",
       "    </tr>\n",
       "    <tr>\n",
       "      <th>12</th>\n",
       "      <td>DecisionTree with CountVectorizer</td>\n",
       "      <td>0.564</td>\n",
       "    </tr>\n",
       "    <tr>\n",
       "      <th>13</th>\n",
       "      <td>KNN with CountVectorizer</td>\n",
       "      <td>0.430</td>\n",
       "    </tr>\n",
       "  </tbody>\n",
       "</table>\n",
       "</div>"
      ],
      "text/plain": [
       "                                   Pipeline f1_score\n",
       "0                 MultinomialNB with TF-IDF    0.485\n",
       "1                     LinearSVC with TF-IDF    0.558\n",
       "2                 SGDClassifier with TF-IDF    0.506\n",
       "3                    Perceptron with TF-IDF    0.651\n",
       "4            LogisticRegression with TF-IDF    0.682\n",
       "5                  DecisionTree with TF-IDF    0.584\n",
       "6                           KNN with TF-IDF    0.430\n",
       "7        MultinomialNB with CountVectorizer    0.458\n",
       "8            LinearSVC with CountVectorizer    0.485\n",
       "9        SGDClassifier with CountVectorizer    0.649\n",
       "10          Perceptron with CountVectorizer    0.657\n",
       "11  LogisticRegression with CountVectorizer    0.622\n",
       "12        DecisionTree with CountVectorizer    0.564\n",
       "13                 KNN with CountVectorizer    0.430"
      ]
     },
     "execution_count": 120,
     "metadata": {},
     "output_type": "execute_result"
    }
   ],
   "source": [
    "data = list_of_lists(f1_scores)\n",
    "data_dict = {'Pipeline' : data[0],\n",
    "             'f1_score' : data[1]\n",
    "            }\n",
    "results = pd.DataFrame(data_dict)\n",
    "results"
   ]
  },
  {
   "cell_type": "markdown",
   "metadata": {},
   "source": [
    "### Step 4.3: The Plot Graph Show\n",
    "<div class=\"alert alert-block alert-info\">\n",
    "<u><b>Purpose of the step:</b></u>\n",
    "    \n",
    "To create a customized bar plot using Seaborn library, where different bars are assigned specific colors and a legend is added to represent different categories, along with setting labels and title for the plot.\n",
    "\n",
    "\n",
    "<u><b>Explanation of the step:</b></u>\n",
    "    \n",
    " This code first defines a custom color palette for the bar plot, with specific colors assigned to different bars.\n",
    "\n",
    "Then, it sets the style and context for the plot using Seaborn, adjusting the font scale and line width.\n",
    "    \n",
    "Next, it creates the bar plot using the specified colors and customizes the labels, title, and legend to provide clear visual representation of the data."
   ]
  },
  {
   "cell_type": "code",
   "execution_count": 167,
   "metadata": {},
   "outputs": [
    {
     "data": {
      "text/plain": [
       "<AxesSubplot:xlabel='Pipeline', ylabel='f1_score'>"
      ]
     },
     "execution_count": 167,
     "metadata": {},
     "output_type": "execute_result"
    },
    {
     "data": {
      "text/plain": [
       "Text(0.5, 0, 'Pipeline')"
      ]
     },
     "execution_count": 167,
     "metadata": {},
     "output_type": "execute_result"
    },
    {
     "data": {
      "text/plain": [
       "Text(0, 0.5, 'f1_score')"
      ]
     },
     "execution_count": 167,
     "metadata": {},
     "output_type": "execute_result"
    },
    {
     "data": {
      "text/plain": [
       "Text(0.5, 1.0, 'f1_score with all Pipelines')"
      ]
     },
     "execution_count": 167,
     "metadata": {},
     "output_type": "execute_result"
    },
    {
     "data": {
      "text/plain": [
       "<matplotlib.legend.Legend at 0x24df8db9b80>"
      ]
     },
     "execution_count": 167,
     "metadata": {},
     "output_type": "execute_result"
    },
    {
     "data": {
      "text/plain": [
       "(array([ 0,  1,  2,  3,  4,  5,  6,  7,  8,  9, 10, 11, 12, 13]),\n",
       " [Text(0, 0, 'MultinomialNB with TF-IDF'),\n",
       "  Text(1, 0, 'LinearSVC with TF-IDF'),\n",
       "  Text(2, 0, 'SGDClassifier with TF-IDF'),\n",
       "  Text(3, 0, 'Perceptron with TF-IDF'),\n",
       "  Text(4, 0, 'LogisticRegression with TF-IDF'),\n",
       "  Text(5, 0, 'DecisionTree with TF-IDF'),\n",
       "  Text(6, 0, 'KNN with TF-IDF'),\n",
       "  Text(7, 0, 'MultinomialNB with CountVectorizer'),\n",
       "  Text(8, 0, 'LinearSVC with CountVectorizer'),\n",
       "  Text(9, 0, 'SGDClassifier with CountVectorizer'),\n",
       "  Text(10, 0, 'Perceptron with CountVectorizer'),\n",
       "  Text(11, 0, 'LogisticRegression with CountVectorizer'),\n",
       "  Text(12, 0, 'DecisionTree with CountVectorizer'),\n",
       "  Text(13, 0, 'KNN with CountVectorizer')])"
      ]
     },
     "execution_count": 167,
     "metadata": {},
     "output_type": "execute_result"
    },
    {
     "data": {
      "image/png": "[encoded data removed]",
      "text/plain": [
       "<Figure size 1200x800 with 1 Axes>"
      ]
     },
     "metadata": {},
     "output_type": "display_data"
    }
   ],
   "source": [
    "# Define the custom color palette with darker shades of yellow and blue\n",
    "colors = ['#FFCC00'] * len(results)  # Set all bars to a darker shade of yellow initially\n",
    "colors[4] = '#A33142'  # Set the 5th bar to a darker shade of red\n",
    "for i in range(7, 14):\n",
    "    colors[i] = '#004F99'  # Set bars with indices 7 to 13 to a darker shade of blue\n",
    "\n",
    "# Set the style for the plot\n",
    "sns.set_style('darkgrid')\n",
    "sns.set_context(\"notebook\", font_scale=1.5, rc={\"lines.linewidth\": 2.5})\n",
    "\n",
    "# Create the bar plot with custom colors\n",
    "fig, ax = plt.subplots(figsize=(12, 8))  # Adjust the figsize to make the plot smaller if needed\n",
    "sns.barplot(x='Pipeline', y='f1_score', data=results, ax=ax, palette=colors)\n",
    "\n",
    "# Set the labels for the plot\n",
    "ax.set_xlabel(\"Pipeline\", fontsize=15)\n",
    "ax.set_ylabel(\"f1_score\", fontsize=15)\n",
    "\n",
    "# Set the title for the plot\n",
    "ax.set_title('f1_score with all Pipelines', fontsize=18)\n",
    "\n",
    "# Create a custom legend\n",
    "legend_colors = {'TF-IDF': '#FFCC00', 'CountVectorizer': '#004F99', 'Best Model' : '#A33142'}\n",
    "handles = [plt.Rectangle((0, 0), 1, 1, color=color) for color in legend_colors.values()]\n",
    "labels = list(legend_colors.keys())\n",
    "ax.legend(handles, labels, loc='center left', bbox_to_anchor=(1, 0.5))\n",
    "\n",
    "# Adjust the rotation of x-axis labels if needed\n",
    "plt.xticks(rotation=90)\n",
    "\n",
    "# Show the plot\n",
    "plt.show()\n"
   ]
  },
  {
   "cell_type": "markdown",
   "metadata": {},
   "source": [
    "### Step 5: Prediction\n",
    "The prediction step involves using the best model, TF-IDF with Logistic Regression, to make predictions on new data by transforming the text into numerical features and utilizing the model's learned parameters to calculate the predictions."
   ]
  },
  {
   "cell_type": "markdown",
   "metadata": {},
   "source": [
    "### Step 5.1: Best Model Choosing\n",
    "<div class=\"alert alert-block alert-info\">\n",
    "<u><b>Purpose of the step:</b></u>\n",
    "    \n",
    "To convert the ***'f1_score'*** column in the **results** dataframe to numeric values, and then identify the row with the highest ***'f1_score'*** as the best model.\n",
    "\n",
    "\n",
    "<u><b>Explanation of the step:</b></u>\n",
    " This code first converts the ***'f1_score'*** column in the **results** dataframe to numeric values using the **pd.to_numeric()** function, ensuring that the values are treated as numerical data.\n",
    "    \n",
    "Then, it uses the **idxmax()** method on the ***'f1_score'*** column to find the index of the maximum value.\n",
    "    \n",
    "Finally, the code retrieves the row corresponding to the index of the maximum ***'f1_score'*** value and assigns it to the variable ***'best_model'***."
   ]
  },
  {
   "cell_type": "code",
   "execution_count": 2,
   "metadata": {},
   "outputs": [
    {
     "ename": "NameError",
     "evalue": "name 'pd' is not defined",
     "output_type": "error",
     "traceback": [
      "\u001b[1;31m---------------------------------------------------------------------------\u001b[0m",
      "\u001b[1;31mNameError\u001b[0m                                 Traceback (most recent call last)",
      "\u001b[1;32m~\\AppData\\Local\\Temp\\ipykernel_30956\\1507994744.py\u001b[0m in \u001b[0;36m<module>\u001b[1;34m\u001b[0m\n\u001b[1;32m----> 1\u001b[1;33m \u001b[0mresults\u001b[0m\u001b[1;33m[\u001b[0m\u001b[1;34m'f1_score'\u001b[0m\u001b[1;33m]\u001b[0m \u001b[1;33m=\u001b[0m \u001b[0mpd\u001b[0m\u001b[1;33m.\u001b[0m\u001b[0mto_numeric\u001b[0m\u001b[1;33m(\u001b[0m\u001b[0mresults\u001b[0m\u001b[1;33m[\u001b[0m\u001b[1;34m'f1_score'\u001b[0m\u001b[1;33m]\u001b[0m\u001b[1;33m)\u001b[0m\u001b[1;33m\u001b[0m\u001b[1;33m\u001b[0m\u001b[0m\n\u001b[0m\u001b[0;32m      2\u001b[0m \u001b[0mbest_model\u001b[0m \u001b[1;33m=\u001b[0m \u001b[0mresults\u001b[0m\u001b[1;33m.\u001b[0m\u001b[0mloc\u001b[0m\u001b[1;33m[\u001b[0m\u001b[0mresults\u001b[0m\u001b[1;33m[\u001b[0m\u001b[1;34m'f1_score'\u001b[0m\u001b[1;33m]\u001b[0m\u001b[1;33m.\u001b[0m\u001b[0midxmax\u001b[0m\u001b[1;33m(\u001b[0m\u001b[1;33m)\u001b[0m\u001b[1;33m]\u001b[0m\u001b[1;33m\u001b[0m\u001b[1;33m\u001b[0m\u001b[0m\n\u001b[0;32m      3\u001b[0m \u001b[0mbest_model\u001b[0m\u001b[1;33m\u001b[0m\u001b[1;33m\u001b[0m\u001b[0m\n",
      "\u001b[1;31mNameError\u001b[0m: name 'pd' is not defined"
     ]
    }
   ],
   "source": [
    "results['f1_score'] = pd.to_numeric(results['f1_score'])\n",
    "best_model = results.loc[results['f1_score'].idxmax()]\n",
    "best_model"
   ]
  },
  {
   "cell_type": "markdown",
   "metadata": {},
   "source": [
    "### Step 5.2: Creation Of The Model To Predict\n",
    "<div class=\"alert alert-block alert-info\">\n",
    "<u><b>Purpose of the step:</b></u>\n",
    "    \n",
    "To train a machine learning pipeline for text classification using **TF-IDF vectorization**, feature scaling, and **Logistic Regression** as the classifier, and then use it to make predictions on the test data.\n",
    "\n",
    "\n",
    "<u><b>Explanation of the step:</b></u>\n",
    " This code creates a machine learning pipeline for text classification, which involves transforming the text data into numerical features using **TF-IDF vectorization**, scaling the features using **MaxAbsScaler()**, and applying **Logistic Regression** as the classifier.\n",
    "    \n",
    "The pipeline is trained on the training data ***df_train_tokenized['story']*** and ***df_train_tokenized['gender']***, enabling it to learn the patterns and relationships between the input text and the corresponding gender labels.\n",
    "    \n",
    "After training, the pipeline is used to predict the gender labels for the test data ***df_test['story']***, providing the model's predictions based on its learned associations."
   ]
  },
  {
   "cell_type": "code",
   "execution_count": 192,
   "metadata": {},
   "outputs": [
    {
     "data": {
      "text/plain": [
       "Pipeline(steps=[('vectorizer', TfidfVectorizer()), ('scaler', MaxAbsScaler()),\n",
       "                ('classifier',\n",
       "                 LogisticRegression(C=10.0, max_iter=1000, penalty='l1',\n",
       "                                    solver='saga'))])"
      ]
     },
     "execution_count": 192,
     "metadata": {},
     "output_type": "execute_result"
    }
   ],
   "source": [
    "pipeline_train = Pipeline(steps=[('vectorizer', TfidfVectorizer()),\n",
    "                                 ('scaler', MaxAbsScaler()),\n",
    "                                 ('classifier',LogisticRegression(C=10.0, max_iter=1000, penalty='l1',solver='saga'))])\n",
    "\n",
    "pipeline_train.fit(df_train_tokenized['story'], df_train_tokenized['gender'])\n",
    "y_prediction_test = pipeline_train.predict(df_test['story'])"
   ]
  },
  {
   "cell_type": "markdown",
   "metadata": {},
   "source": [
    "### Step 5.3: The Prediction (finally)\n",
    "<div class=\"alert alert-block alert-info\">\n",
    "<u><b>Purpose of the step:</b></u>\n",
    "    \n",
    " To create a new dataframe, ***df_predicted***, that combines the ***'test_example_id'*** column from df_test with the predicted gender labels from ***y_prediction_test*** as the ***'predicted_gender'*** column.\n",
    "\n",
    "\n",
    "<u><b>Explanation of the step:</b></u>\n",
    "    \n",
    " This code creates a new dataframe called **df_predicted** by combining the ***'test_example_id'*** column from the dataframe **df_test** with the predicted gender labels stored in the **y_prediction_test** array, converting them to Python lists.\n",
    "    \n",
    "The resulting dataframe **df_predicted** contains two columns: ***'test_example_id'*** which holds the original test example\n",
    "IDs, and ***'predicted_gender'*** which contains the predicted gender labels assigned by the model for each corresponding test example."
   ]
  },
  {
   "cell_type": "code",
   "execution_count": 193,
   "metadata": {},
   "outputs": [
    {
     "data": {
      "text/html": [
       "<div>\n",
       "<style scoped>\n",
       "    .dataframe tbody tr th:only-of-type {\n",
       "        vertical-align: middle;\n",
       "    }\n",
       "\n",
       "    .dataframe tbody tr th {\n",
       "        vertical-align: top;\n",
       "    }\n",
       "\n",
       "    .dataframe thead th {\n",
       "        text-align: right;\n",
       "    }\n",
       "</style>\n",
       "<table border=\"1\" class=\"dataframe\">\n",
       "  <thead>\n",
       "    <tr style=\"text-align: right;\">\n",
       "      <th></th>\n",
       "      <th>test_example_id</th>\n",
       "      <th>predicted_gender</th>\n",
       "    </tr>\n",
       "  </thead>\n",
       "  <tbody>\n",
       "    <tr>\n",
       "      <th>0</th>\n",
       "      <td>0</td>\n",
       "      <td>m</td>\n",
       "    </tr>\n",
       "    <tr>\n",
       "      <th>1</th>\n",
       "      <td>1</td>\n",
       "      <td>m</td>\n",
       "    </tr>\n",
       "    <tr>\n",
       "      <th>2</th>\n",
       "      <td>2</td>\n",
       "      <td>m</td>\n",
       "    </tr>\n",
       "    <tr>\n",
       "      <th>3</th>\n",
       "      <td>3</td>\n",
       "      <td>m</td>\n",
       "    </tr>\n",
       "    <tr>\n",
       "      <th>4</th>\n",
       "      <td>4</td>\n",
       "      <td>m</td>\n",
       "    </tr>\n",
       "    <tr>\n",
       "      <th>...</th>\n",
       "      <td>...</td>\n",
       "      <td>...</td>\n",
       "    </tr>\n",
       "    <tr>\n",
       "      <th>318</th>\n",
       "      <td>318</td>\n",
       "      <td>m</td>\n",
       "    </tr>\n",
       "    <tr>\n",
       "      <th>319</th>\n",
       "      <td>319</td>\n",
       "      <td>m</td>\n",
       "    </tr>\n",
       "    <tr>\n",
       "      <th>320</th>\n",
       "      <td>320</td>\n",
       "      <td>m</td>\n",
       "    </tr>\n",
       "    <tr>\n",
       "      <th>321</th>\n",
       "      <td>321</td>\n",
       "      <td>m</td>\n",
       "    </tr>\n",
       "    <tr>\n",
       "      <th>322</th>\n",
       "      <td>322</td>\n",
       "      <td>m</td>\n",
       "    </tr>\n",
       "  </tbody>\n",
       "</table>\n",
       "<p>323 rows × 2 columns</p>\n",
       "</div>"
      ],
      "text/plain": [
       "     test_example_id predicted_gender\n",
       "0                  0                m\n",
       "1                  1                m\n",
       "2                  2                m\n",
       "3                  3                m\n",
       "4                  4                m\n",
       "..               ...              ...\n",
       "318              318                m\n",
       "319              319                m\n",
       "320              320                m\n",
       "321              321                m\n",
       "322              322                m\n",
       "\n",
       "[323 rows x 2 columns]"
      ]
     },
     "execution_count": 193,
     "metadata": {},
     "output_type": "execute_result"
    }
   ],
   "source": [
    "df_predicted = pd.DataFrame({\n",
    "    'test_example_id': df_test['test_example_id'].tolist(),\n",
    "    'predicted_gender': y_prediction_test.tolist()\n",
    "})\n",
    "df_predicted"
   ]
  },
  {
   "cell_type": "markdown",
   "metadata": {},
   "source": [
    "### Save output to csv (optional)\n",
    "After you're done save your output to the 'classification_results.csv' csv file.<br/>\n",
    "We assume that the dataframe with your results contain the following columns:\n",
    "* column 1 (left column): 'test_example_id'  - the same id associated to each of the test stories to be predicted.\n",
    "* column 2 (right column): 'predicted_category' - the predicted gender value for each of the associated story. \n",
    "\n",
    "Assuming your predicted values are in the `df_predicted` dataframe, you should save you're results as following:"
   ]
  },
  {
   "cell_type": "code",
   "execution_count": null,
   "metadata": {},
   "outputs": [],
   "source": [
    "df_predicted.to_csv('classification_results.csv',index=False)"
   ]
  }
 ],
 "metadata": {
  "celltoolbar": "Create Assignment",
  "kernelspec": {
   "display_name": "Python 3 (ipykernel)",
   "language": "python",
   "name": "python3"
  },
  "language_info": {
   "codemirror_mode": {
    "name": "ipython",
    "version": 3
   },
   "file_extension": ".py",
   "mimetype": "text/x-python",
   "name": "python",
   "nbconvert_exporter": "python",
   "pygments_lexer": "ipython3",
   "version": "3.9.13"
  }
 },
 "nbformat": 4,
 "nbformat_minor": 4
}
